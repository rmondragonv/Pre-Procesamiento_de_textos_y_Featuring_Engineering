{
  "nbformat": 4,
  "nbformat_minor": 0,
  "metadata": {
    "kernelspec": {
      "display_name": "Python 3",
      "language": "python",
      "name": "python3"
    },
    "language_info": {
      "codemirror_mode": {
        "name": "ipython",
        "version": 3
      },
      "file_extension": ".py",
      "mimetype": "text/x-python",
      "name": "python",
      "nbconvert_exporter": "python",
      "pygments_lexer": "ipython3",
      "version": "3.7.4"
    },
    "colab": {
      "name": "taller4 (1).ipynb",
      "provenance": []
    }
  },
  "cells": [
    {
      "cell_type": "markdown",
      "metadata": {
        "id": "2gY4OjJZ8xo5"
      },
      "source": [
        "<img src='https://encrypted-tbn0.gstatic.com/images?q=tbn%3AANd9GcQ-VfNtOyJbsaxu43Kztf_cv1mgBG6ZIQZEVw&usqp=CAU'>\n",
        "\n",
        "# Procesamiento de Lenguaje Natural\n",
        "\n",
        "## Taller #4: Pre-Procesamiento de textos y Featuring Engineering \n",
        "`Fecha de entrega: Marzo 18, 2021. (Antes del inicio de la próxima clase).`"
      ]
    },
    {
      "cell_type": "code",
      "metadata": {
        "id": "gk1ze8HI8xo8"
      },
      "source": [
        "import re\n",
        "import pandas as pd\n",
        "from collections import Counter\n",
        "\n",
        "from nltk.corpus import stopwords\n",
        "stopwords_sp = stopwords.words('spanish')\n",
        "\n",
        "from sklearn.feature_extraction.text import CountVectorizer"
      ],
      "execution_count": null,
      "outputs": []
    },
    {
      "cell_type": "markdown",
      "metadata": {
        "id": "2vGEOqfw8xo-"
      },
      "source": [
        "# Punto 1: Pre-Procesamiento\n",
        "\n",
        "- `[5 pts]` Leer el archivo `dialogos.csv` usando `pandas`\n",
        "- `[10 pts]` Crear una nueva columna con el texto en minúscula, sin caracteres especiales ni números y sin palabras vacias\n",
        "- `[7 pts]` Usando la nueva columna, ¿cuáles son las 10 palabras más usadas? "
      ]
    },
    {
      "cell_type": "code",
      "metadata": {
        "id": "TufUMcp58xo_",
        "outputId": "fc9d1eb4-0f47-41c7-d89d-4fb16a819a88"
      },
      "source": [
        "import pandas as pd\n",
        "C:\\Users\\ricar\\OneDrive\\Documentos\\Universidad\\Konrad Lorenz\\2o Semestre\\Procesamiento de Lenguaje Natural\\Taller 4\n",
        "\n",
        "df = pd.read_csv('dialogos.csv')\n",
        "\n",
        "# Revision de las primeras 5 filas\n",
        "df.head()\n",
        "\n",
        "df_array = df.values\n",
        " \n",
        "# Ver estructura\n",
        "type(df_array)\n",
        "\n"
      ],
      "execution_count": null,
      "outputs": [
        {
          "output_type": "execute_result",
          "data": {
            "text/html": [
              "<div>\n",
              "<style scoped>\n",
              "    .dataframe tbody tr th:only-of-type {\n",
              "        vertical-align: middle;\n",
              "    }\n",
              "\n",
              "    .dataframe tbody tr th {\n",
              "        vertical-align: top;\n",
              "    }\n",
              "\n",
              "    .dataframe thead th {\n",
              "        text-align: right;\n",
              "    }\n",
              "</style>\n",
              "<table border=\"1\" class=\"dataframe\">\n",
              "  <thead>\n",
              "    <tr style=\"text-align: right;\">\n",
              "      <th></th>\n",
              "      <th>Locución</th>\n",
              "    </tr>\n",
              "  </thead>\n",
              "  <tbody>\n",
              "    <tr>\n",
              "      <th>0</th>\n",
              "      <td>Francamente no</td>\n",
              "    </tr>\n",
              "    <tr>\n",
              "      <th>1</th>\n",
              "      <td>Lo del canadiense. Por favor, como que vosotro...</td>\n",
              "    </tr>\n",
              "    <tr>\n",
              "      <th>2</th>\n",
              "      <td>Tienes razón. A lo mejor así te liberas de tu ...</td>\n",
              "    </tr>\n",
              "    <tr>\n",
              "      <th>3</th>\n",
              "      <td>Pues, tú sabrás</td>\n",
              "    </tr>\n",
              "    <tr>\n",
              "      <th>4</th>\n",
              "      <td>Para mí que fue Krieger</td>\n",
              "    </tr>\n",
              "    <tr>\n",
              "      <th>...</th>\n",
              "      <td>...</td>\n",
              "    </tr>\n",
              "    <tr>\n",
              "      <th>954</th>\n",
              "      <td>Yo qué sé, digo yo qué será</td>\n",
              "    </tr>\n",
              "    <tr>\n",
              "      <th>955</th>\n",
              "      <td>Lo han entendido mal. Las joyas que venden en ...</td>\n",
              "    </tr>\n",
              "    <tr>\n",
              "      <th>956</th>\n",
              "      <td>Oooo... Me llamo Vivian</td>\n",
              "    </tr>\n",
              "    <tr>\n",
              "      <th>957</th>\n",
              "      <td>¿De dónde? ¿Del coño de tu madre?</td>\n",
              "    </tr>\n",
              "    <tr>\n",
              "      <th>958</th>\n",
              "      <td>Ah, sí esto podría funcionar</td>\n",
              "    </tr>\n",
              "  </tbody>\n",
              "</table>\n",
              "<p>959 rows × 1 columns</p>\n",
              "</div>"
            ],
            "text/plain": [
              "                                              Locución\n",
              "0                                       Francamente no\n",
              "1    Lo del canadiense. Por favor, como que vosotro...\n",
              "2    Tienes razón. A lo mejor así te liberas de tu ...\n",
              "3                                      Pues, tú sabrás\n",
              "4                              Para mí que fue Krieger\n",
              "..                                                 ...\n",
              "954                        Yo qué sé, digo yo qué será\n",
              "955  Lo han entendido mal. Las joyas que venden en ...\n",
              "956                            Oooo... Me llamo Vivian\n",
              "957                  ¿De dónde? ¿Del coño de tu madre?\n",
              "958                       Ah, sí esto podría funcionar\n",
              "\n",
              "[959 rows x 1 columns]"
            ]
          },
          "metadata": {
            "tags": []
          },
          "execution_count": 2
        }
      ]
    },
    {
      "cell_type": "code",
      "metadata": {
        "id": "ktWeP8ZC8xpB",
        "outputId": "85fe7a5c-0bd5-4d0a-dbbc-2d1062054aaa"
      },
      "source": [
        "#minusc \n",
        "\n",
        "las = []\n",
        "\n",
        "for column in texto:\n",
        "    row = texto[\"Locución\"]\n",
        "    for palabra in row:\n",
        "        palabra.lower()\n",
        "        las.append(palabra)\n",
        "las = [palabra.lower() for palabra in las]"
      ],
      "execution_count": null,
      "outputs": [
        {
          "output_type": "execute_result",
          "data": {
            "text/html": [
              "<div>\n",
              "<style scoped>\n",
              "    .dataframe tbody tr th:only-of-type {\n",
              "        vertical-align: middle;\n",
              "    }\n",
              "\n",
              "    .dataframe tbody tr th {\n",
              "        vertical-align: top;\n",
              "    }\n",
              "\n",
              "    .dataframe thead th {\n",
              "        text-align: right;\n",
              "    }\n",
              "</style>\n",
              "<table border=\"1\" class=\"dataframe\">\n",
              "  <thead>\n",
              "    <tr style=\"text-align: right;\">\n",
              "      <th></th>\n",
              "      <th>Locución</th>\n",
              "      <th>pre-procesado</th>\n",
              "    </tr>\n",
              "  </thead>\n",
              "  <tbody>\n",
              "    <tr>\n",
              "      <th>0</th>\n",
              "      <td>Francamente no</td>\n",
              "      <td>francamente</td>\n",
              "    </tr>\n",
              "    <tr>\n",
              "      <th>1</th>\n",
              "      <td>Lo del canadiense. Por favor, como que vosotro...</td>\n",
              "      <td>canadiense favor tiraríais allí si pudieseis</td>\n",
              "    </tr>\n",
              "    <tr>\n",
              "      <th>2</th>\n",
              "      <td>Tienes razón. A lo mejor así te liberas de tu ...</td>\n",
              "      <td>razón mejor así liberas energía nagativa</td>\n",
              "    </tr>\n",
              "    <tr>\n",
              "      <th>3</th>\n",
              "      <td>Pues, tú sabrás</td>\n",
              "      <td>pues sabrás</td>\n",
              "    </tr>\n",
              "    <tr>\n",
              "      <th>4</th>\n",
              "      <td>Para mí que fue Krieger</td>\n",
              "      <td>krieger</td>\n",
              "    </tr>\n",
              "    <tr>\n",
              "      <th>...</th>\n",
              "      <td>...</td>\n",
              "      <td>...</td>\n",
              "    </tr>\n",
              "    <tr>\n",
              "      <th>954</th>\n",
              "      <td>Yo qué sé, digo yo qué será</td>\n",
              "      <td>sé digo</td>\n",
              "    </tr>\n",
              "    <tr>\n",
              "      <th>955</th>\n",
              "      <td>Lo han entendido mal. Las joyas que venden en ...</td>\n",
              "      <td>entendido mal joyas venden canales siquiera in...</td>\n",
              "    </tr>\n",
              "    <tr>\n",
              "      <th>956</th>\n",
              "      <td>Oooo... Me llamo Vivian</td>\n",
              "      <td>oooo llamo vivian</td>\n",
              "    </tr>\n",
              "    <tr>\n",
              "      <th>957</th>\n",
              "      <td>¿De dónde? ¿Del coño de tu madre?</td>\n",
              "      <td>dónde coño madre</td>\n",
              "    </tr>\n",
              "    <tr>\n",
              "      <th>958</th>\n",
              "      <td>Ah, sí esto podría funcionar</td>\n",
              "      <td>ah podría funcionar</td>\n",
              "    </tr>\n",
              "  </tbody>\n",
              "</table>\n",
              "<p>959 rows × 2 columns</p>\n",
              "</div>"
            ],
            "text/plain": [
              "                                              Locución  \\\n",
              "0                                       Francamente no   \n",
              "1    Lo del canadiense. Por favor, como que vosotro...   \n",
              "2    Tienes razón. A lo mejor así te liberas de tu ...   \n",
              "3                                      Pues, tú sabrás   \n",
              "4                              Para mí que fue Krieger   \n",
              "..                                                 ...   \n",
              "954                        Yo qué sé, digo yo qué será   \n",
              "955  Lo han entendido mal. Las joyas que venden en ...   \n",
              "956                            Oooo... Me llamo Vivian   \n",
              "957                  ¿De dónde? ¿Del coño de tu madre?   \n",
              "958                       Ah, sí esto podría funcionar   \n",
              "\n",
              "                                         pre-procesado  \n",
              "0                                          francamente  \n",
              "1         canadiense favor tiraríais allí si pudieseis  \n",
              "2             razón mejor así liberas energía nagativa  \n",
              "3                                          pues sabrás  \n",
              "4                                              krieger  \n",
              "..                                                 ...  \n",
              "954                                            sé digo  \n",
              "955  entendido mal joyas venden canales siquiera in...  \n",
              "956                                  oooo llamo vivian  \n",
              "957                                   dónde coño madre  \n",
              "958                                ah podría funcionar  \n",
              "\n",
              "[959 rows x 2 columns]"
            ]
          },
          "metadata": {
            "tags": []
          },
          "execution_count": 3
        }
      ]
    },
    {
      "cell_type": "code",
      "metadata": {
        "id": "7oq2-Bzz8xpC",
        "outputId": "58f3a540-3d9e-4caa-c799-b797199a9ab4"
      },
      "source": [
        "#conteo de palabras\n",
        "\n",
        "conteo = pd.Series(palabras)\n",
        "\n",
        "conteo.value_counts().head(20)"
      ],
      "execution_count": null,
      "outputs": [
        {
          "output_type": "execute_result",
          "data": {
            "text/plain": [
              "[('bien', 36),\n",
              " ('si', 34),\n",
              " ('cómo', 34),\n",
              " ('así', 30),\n",
              " ('oh', 28),\n",
              " ('vamos', 26),\n",
              " ('sarcasmobol', 24),\n",
              " ('aquí', 24),\n",
              " ('bueno', 24),\n",
              " ('lana', 22)]"
            ]
          },
          "metadata": {
            "tags": []
          },
          "execution_count": 4
        }
      ]
    },
    {
      "cell_type": "markdown",
      "metadata": {
        "id": "pHffUBTk8xpD"
      },
      "source": [
        "# Punto 2: Representación vectorial\n",
        "\n",
        "- `[15 pts]` Crear una bolsa de palabras (BoW) del corpus usando la columna pre-procesada (Usando la función de `sklearn`)\n",
        "- `[10 pts]` ¿Cuántas palabras hay en el vocabulario? (Usando la función de `sklearn`)"
      ]
    },
    {
      "cell_type": "code",
      "metadata": {
        "id": "jF2UULsl8xpE",
        "outputId": "d77cbe71-bdb5-4ea3-e8a5-fbd9920aac29"
      },
      "source": [
        "#Vectores\n",
        "count_vect = CountVectorizer(binary=True)\n",
        "\n",
        "#Bolsa de Palabras\n",
        "Bow = count_vect-fit_transform(Columna)\n",
        "\n",
        "documento[\"Bow\"] = [row for row in Bow.toarray()]\n",
        "\n",
        "documento\n"
      ],
      "execution_count": null,
      "outputs": [
        {
          "output_type": "execute_result",
          "data": {
            "text/html": [
              "<div>\n",
              "<style scoped>\n",
              "    .dataframe tbody tr th:only-of-type {\n",
              "        vertical-align: middle;\n",
              "    }\n",
              "\n",
              "    .dataframe tbody tr th {\n",
              "        vertical-align: top;\n",
              "    }\n",
              "\n",
              "    .dataframe thead th {\n",
              "        text-align: right;\n",
              "    }\n",
              "</style>\n",
              "<table border=\"1\" class=\"dataframe\">\n",
              "  <thead>\n",
              "    <tr style=\"text-align: right;\">\n",
              "      <th></th>\n",
              "      <th>Locución</th>\n",
              "      <th>pre-procesado</th>\n",
              "      <th>bow</th>\n",
              "    </tr>\n",
              "  </thead>\n",
              "  <tbody>\n",
              "    <tr>\n",
              "      <th>0</th>\n",
              "      <td>Francamente no</td>\n",
              "      <td>francamente</td>\n",
              "      <td>[[0, 0, 0, 0, 0, 0, 0, 0, 0, 0, 0, 0, 0, 0, 0,...</td>\n",
              "    </tr>\n",
              "    <tr>\n",
              "      <th>1</th>\n",
              "      <td>Lo del canadiense. Por favor, como que vosotro...</td>\n",
              "      <td>canadiense favor tiraríais allí si pudieseis</td>\n",
              "      <td>[[0, 0, 0, 0, 0, 0, 0, 0, 0, 0, 0, 0, 0, 0, 0,...</td>\n",
              "    </tr>\n",
              "    <tr>\n",
              "      <th>2</th>\n",
              "      <td>Tienes razón. A lo mejor así te liberas de tu ...</td>\n",
              "      <td>razón mejor así liberas energía nagativa</td>\n",
              "      <td>[[0, 0, 0, 0, 0, 0, 0, 0, 0, 0, 0, 0, 0, 0, 0,...</td>\n",
              "    </tr>\n",
              "    <tr>\n",
              "      <th>3</th>\n",
              "      <td>Pues, tú sabrás</td>\n",
              "      <td>pues sabrás</td>\n",
              "      <td>[[0, 0, 0, 0, 0, 0, 0, 0, 0, 0, 0, 0, 0, 0, 0,...</td>\n",
              "    </tr>\n",
              "    <tr>\n",
              "      <th>4</th>\n",
              "      <td>Para mí que fue Krieger</td>\n",
              "      <td>krieger</td>\n",
              "      <td>[[0, 0, 0, 0, 0, 0, 0, 0, 0, 0, 0, 0, 0, 0, 0,...</td>\n",
              "    </tr>\n",
              "    <tr>\n",
              "      <th>...</th>\n",
              "      <td>...</td>\n",
              "      <td>...</td>\n",
              "      <td>...</td>\n",
              "    </tr>\n",
              "    <tr>\n",
              "      <th>954</th>\n",
              "      <td>Yo qué sé, digo yo qué será</td>\n",
              "      <td>sé digo</td>\n",
              "      <td>[[0, 0, 0, 0, 0, 0, 0, 0, 0, 0, 0, 0, 0, 0, 0,...</td>\n",
              "    </tr>\n",
              "    <tr>\n",
              "      <th>955</th>\n",
              "      <td>Lo han entendido mal. Las joyas que venden en ...</td>\n",
              "      <td>entendido mal joyas venden canales siquiera in...</td>\n",
              "      <td>[[0, 0, 0, 0, 0, 0, 0, 0, 0, 0, 0, 0, 0, 0, 0,...</td>\n",
              "    </tr>\n",
              "    <tr>\n",
              "      <th>956</th>\n",
              "      <td>Oooo... Me llamo Vivian</td>\n",
              "      <td>oooo llamo vivian</td>\n",
              "      <td>[[0, 0, 0, 0, 0, 0, 0, 0, 0, 0, 0, 0, 0, 0, 0,...</td>\n",
              "    </tr>\n",
              "    <tr>\n",
              "      <th>957</th>\n",
              "      <td>¿De dónde? ¿Del coño de tu madre?</td>\n",
              "      <td>dónde coño madre</td>\n",
              "      <td>[[0, 0, 0, 0, 0, 0, 0, 0, 0, 0, 0, 0, 0, 0, 0,...</td>\n",
              "    </tr>\n",
              "    <tr>\n",
              "      <th>958</th>\n",
              "      <td>Ah, sí esto podría funcionar</td>\n",
              "      <td>ah podría funcionar</td>\n",
              "      <td>[[0, 0, 0, 0, 0, 0, 0, 0, 0, 0, 0, 0, 0, 0, 0,...</td>\n",
              "    </tr>\n",
              "  </tbody>\n",
              "</table>\n",
              "<p>959 rows × 3 columns</p>\n",
              "</div>"
            ],
            "text/plain": [
              "                                              Locución  \\\n",
              "0                                       Francamente no   \n",
              "1    Lo del canadiense. Por favor, como que vosotro...   \n",
              "2    Tienes razón. A lo mejor así te liberas de tu ...   \n",
              "3                                      Pues, tú sabrás   \n",
              "4                              Para mí que fue Krieger   \n",
              "..                                                 ...   \n",
              "954                        Yo qué sé, digo yo qué será   \n",
              "955  Lo han entendido mal. Las joyas que venden en ...   \n",
              "956                            Oooo... Me llamo Vivian   \n",
              "957                  ¿De dónde? ¿Del coño de tu madre?   \n",
              "958                       Ah, sí esto podría funcionar   \n",
              "\n",
              "                                         pre-procesado  \\\n",
              "0                                          francamente   \n",
              "1         canadiense favor tiraríais allí si pudieseis   \n",
              "2             razón mejor así liberas energía nagativa   \n",
              "3                                          pues sabrás   \n",
              "4                                              krieger   \n",
              "..                                                 ...   \n",
              "954                                            sé digo   \n",
              "955  entendido mal joyas venden canales siquiera in...   \n",
              "956                                  oooo llamo vivian   \n",
              "957                                   dónde coño madre   \n",
              "958                                ah podría funcionar   \n",
              "\n",
              "                                                   bow  \n",
              "0    [[0, 0, 0, 0, 0, 0, 0, 0, 0, 0, 0, 0, 0, 0, 0,...  \n",
              "1    [[0, 0, 0, 0, 0, 0, 0, 0, 0, 0, 0, 0, 0, 0, 0,...  \n",
              "2    [[0, 0, 0, 0, 0, 0, 0, 0, 0, 0, 0, 0, 0, 0, 0,...  \n",
              "3    [[0, 0, 0, 0, 0, 0, 0, 0, 0, 0, 0, 0, 0, 0, 0,...  \n",
              "4    [[0, 0, 0, 0, 0, 0, 0, 0, 0, 0, 0, 0, 0, 0, 0,...  \n",
              "..                                                 ...  \n",
              "954  [[0, 0, 0, 0, 0, 0, 0, 0, 0, 0, 0, 0, 0, 0, 0,...  \n",
              "955  [[0, 0, 0, 0, 0, 0, 0, 0, 0, 0, 0, 0, 0, 0, 0,...  \n",
              "956  [[0, 0, 0, 0, 0, 0, 0, 0, 0, 0, 0, 0, 0, 0, 0,...  \n",
              "957  [[0, 0, 0, 0, 0, 0, 0, 0, 0, 0, 0, 0, 0, 0, 0,...  \n",
              "958  [[0, 0, 0, 0, 0, 0, 0, 0, 0, 0, 0, 0, 0, 0, 0,...  \n",
              "\n",
              "[959 rows x 3 columns]"
            ]
          },
          "metadata": {
            "tags": []
          },
          "execution_count": 5
        }
      ]
    },
    {
      "cell_type": "code",
      "metadata": {
        "id": "3qLwSZml8xpE",
        "outputId": "3d2d7e08-d86e-475f-cb8c-a4ad7ddd512e"
      },
      "source": [
        "# Tamaño\n",
        "#sklearn\n",
        "\n",
        "len(documento[\"Bow\"][0])"
      ],
      "execution_count": null,
      "outputs": [
        {
          "output_type": "execute_result",
          "data": {
            "text/plain": [
              "2115"
            ]
          },
          "metadata": {
            "tags": []
          },
          "execution_count": 7
        }
      ]
    },
    {
      "cell_type": "markdown",
      "metadata": {
        "id": "Q2pqEvli8xpF"
      },
      "source": [
        "# Punto 3: 🤔\n",
        "\n",
        "- `[3pts]` ¿Cuándo es una mejor idea usar una bolsa de n-gramas en vez de una bolsa de palabras?"
      ]
    },
    {
      "cell_type": "markdown",
      "metadata": {
        "id": "Wu6Tzv1rGhMW"
      },
      "source": [
        "Tanto para R como para Python siempre se suelen hacer pruebas con ambos incluso varios n-gramas, 2 hasta 5 porque segun el tipo de texto las palabras individuales son valiosas, pero si se trata de un texto largo o complejo los n-gramas permiten encontrar la relación, como por ejemplo no es lo mismo \"mal\", \"servicio\", que \"mal servicio\" No obstante cuando se tiene un interés en el contexto es mejor n-gramas.\n",
        "Para concluir si hablamos de n-gramas se usan cuando la sintaxis de las palabras es significativa; las bolsas solo me entregan un resultado individual y no de contexto."
      ]
    },
    {
      "cell_type": "markdown",
      "metadata": {
        "id": "tSffroRQGerB"
      },
      "source": [
        "jdsdds"
      ]
    },
    {
      "cell_type": "markdown",
      "metadata": {
        "id": "m70u00G8Gedj"
      },
      "source": [
        ""
      ]
    },
    {
      "cell_type": "markdown",
      "metadata": {
        "id": "Dowsr2xSGc-J"
      },
      "source": [
        "Tan"
      ]
    },
    {
      "cell_type": "markdown",
      "metadata": {
        "id": "gwyYj2gjENC1"
      },
      "source": [
        "Tanto par"
      ]
    },
    {
      "cell_type": "markdown",
      "metadata": {
        "id": "xltpUsD98xpG"
      },
      "source": [
        "# BONUS Punto 4: 😜\n",
        "\n",
        "- `[2pt]` ¿A qué pertenecen los dialogos de ese archivo? "
      ]
    },
    {
      "cell_type": "markdown",
      "metadata": {
        "id": "ShkDibhyIoWe"
      },
      "source": [
        "Los dialogos pertenecen a 2 capitulos de south park y tmbn a la serie de Archer. Randy crea un nuevo juego llamado Sarcasmobol queriendo ser un sarcastico en medidas de seguridad para los juegos de la encuesta. Por lo general los sarcasmos colapsan cualquier modelo de NLP o redes neuronales"
      ]
    }
  ]
}